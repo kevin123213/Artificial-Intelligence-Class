{
  "nbformat": 4,
  "nbformat_minor": 0,
  "metadata": {
    "colab": {
      "provenance": [],
      "collapsed_sections": [],
      "authorship_tag": "ABX9TyM58TcWFWZ0V/k/Gzm2eBuf",
      "include_colab_link": true
    },
    "kernelspec": {
      "name": "python3",
      "display_name": "Python 3"
    },
    "language_info": {
      "name": "python"
    }
  },
  "cells": [
    {
      "cell_type": "markdown",
      "metadata": {
        "id": "view-in-github",
        "colab_type": "text"
      },
      "source": [
        "<a href=\"https://colab.research.google.com/github/kevin123213/Artificial-Intelligence-Class/blob/Homework/AI_Assignment1_KevinOsorio_1877383.ipynb\" target=\"_parent\"><img src=\"https://colab.research.google.com/assets/colab-badge.svg\" alt=\"Open In Colab\"/></a>"
      ]
    },
    {
      "cell_type": "code",
      "execution_count": 3,
      "metadata": {
        "id": "PkHt0QGilxJX"
      },
      "outputs": [],
      "source": [
        "#A2: Python Exercises.\n",
        "#Kevin Alexis Osorio Rodriguez\n",
        "#N3-N6"
      ]
    },
    {
      "cell_type": "code",
      "source": [
        "Name = input(\"What is you name?\")\n",
        "if (Name == \"Ana\" or Name == \"John\" or Name == \"Peter\"):\n",
        "  print(\"Im not talking to you\")\n",
        "else:\n",
        "  print(\"Hola\", Name)"
      ],
      "metadata": {
        "colab": {
          "base_uri": "https://localhost:8080/"
        },
        "id": "G-sHG_gRmEvB",
        "outputId": "18c72ef4-7a6a-4cb8-9972-9af5960ab1ee"
      },
      "execution_count": 22,
      "outputs": [
        {
          "output_type": "stream",
          "name": "stdout",
          "text": [
            "What is you name?Ana\n",
            "Im not talking to you\n"
          ]
        }
      ]
    },
    {
      "cell_type": "code",
      "source": [
        "List = [\"apple\", \"cherry\", \"pineapple\", \"orange\", \"banana\", \"watermelon\"]\n",
        "print(\"Last element is:\",List[-1])\n",
        "\n",
        "for i in range(len(List)):\n",
        "  print(List[-i-1])"
      ],
      "metadata": {
        "colab": {
          "base_uri": "https://localhost:8080/"
        },
        "id": "3cnuKffSnnga",
        "outputId": "bef1b886-c810-42df-9b43-c79be666f774"
      },
      "execution_count": 43,
      "outputs": [
        {
          "output_type": "stream",
          "name": "stdout",
          "text": [
            "Last element is: watermelon\n",
            "watermelon\n",
            "banana\n",
            "orange\n",
            "pineapple\n",
            "cherry\n",
            "apple\n"
          ]
        }
      ]
    },
    {
      "cell_type": "code",
      "source": [
        "Array = [\"Hi\", \"my\", \"name\", \"is\", \"John\", \"Doe\"]\n",
        "print(\"**********\")\n",
        "for i in Array:  \n",
        "  print(\"* \", i.ljust(4), \" *\")\n",
        "print(\"**********\")"
      ],
      "metadata": {
        "colab": {
          "base_uri": "https://localhost:8080/"
        },
        "id": "ymIm9S0NovLG",
        "outputId": "1e63cec7-1857-4fe6-d78a-2a16ef307a3d"
      },
      "execution_count": 48,
      "outputs": [
        {
          "output_type": "stream",
          "name": "stdout",
          "text": [
            "**********\n",
            "*  Hi    *\n",
            "*  my    *\n",
            "*  name  *\n",
            "*  is    *\n",
            "*  John  *\n",
            "*  Doe   *\n",
            "**********\n"
          ]
        }
      ]
    },
    {
      "cell_type": "code",
      "source": [],
      "metadata": {
        "id": "cf3CZMMqt7wo"
      },
      "execution_count": null,
      "outputs": []
    }
  ]
}